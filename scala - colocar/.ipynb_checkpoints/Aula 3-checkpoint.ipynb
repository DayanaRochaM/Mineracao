{
 "cells": [
  {
   "cell_type": "markdown",
   "metadata": {},
   "source": [
    "# Aula 3\n",
    "---\n",
    "\n",
    "Essa aula é um desafio para por em prova seus conhecimentos em Scala! Para resolvê-lo, você deverar utilizar o que foi apresentado nas últimas aulas E consultar materiais complementares(stack overflow) para aprender ainda mais em um cenário prático!"
   ]
  },
  {
   "cell_type": "markdown",
   "metadata": {},
   "source": [
    "## Baixando o dataset\n",
    "\n",
    "O dataset desta atividade foi tirado do Kaggle e chama-se [Food Ingredient List](https://www.kaggle.com/datafiniti/food-ingredient-lists/version/1#). Ele contém os ingredientes presentes em 10000 produtos encontrados em supermercados. Para mais informações, visite a [página do dataset](https://www.kaggle.com/datafiniti/food-ingredient-lists/version/1#).\n",
    "\n",
    "O código abaixo faz o download do dataset para o diretório atual deste notebook."
   ]
  },
  {
   "cell_type": "code",
   "execution_count": 1,
   "metadata": {},
   "outputs": [
    {
     "name": "stderr",
     "output_type": "stream",
     "text": [
      "--2019-06-10 15:25:07--  https://drive.google.com/uc?export=download&id=1oTjCLXJZjciOmpweGsirlreu9zcrm6Py\n",
      "Resolving drive.google.com (drive.google.com)... 216.58.222.110, 2800:3f0:4004:806::200e\n",
      "Connecting to drive.google.com (drive.google.com)|216.58.222.110|:443... connected.\n",
      "HTTP request sent, awaiting response... 302 Moved Temporarily\n",
      "Location: https://doc-0k-54-docs.googleusercontent.com/docs/securesc/ha0ro937gcuc7l7deffksulhg5h7mbp1/f0hutmi0039prau7tbom3ov8dlvdk2vt/1560189600000/11950412691737885275/*/1oTjCLXJZjciOmpweGsirlreu9zcrm6Py?e=download [following]\n",
      "Warning: wildcards not supported in HTTP.\n",
      "--2019-06-10 15:25:08--  https://doc-0k-54-docs.googleusercontent.com/docs/securesc/ha0ro937gcuc7l7deffksulhg5h7mbp1/f0hutmi0039prau7tbom3ov8dlvdk2vt/1560189600000/11950412691737885275/*/1oTjCLXJZjciOmpweGsirlreu9zcrm6Py?e=download\n",
      "Resolving doc-0k-54-docs.googleusercontent.com (doc-0k-54-docs.googleusercontent.com)... 172.217.29.97, 2800:3f0:4004:805::2001\n",
      "Connecting to doc-0k-54-docs.googleusercontent.com (doc-0k-54-docs.googleusercontent.com)|172.217.29.97|:443... connected.\n",
      "HTTP request sent, awaiting response... 200 OK\n",
      "Length: unspecified [text/tab-separated-values]\n",
      "Saving to: ‘ingredients.tsv’\n",
      "\n",
      "     0K .......... .......... .......... .......... ..........  373K\n",
      "    50K .......... .......... .......... .......... ..........  372K\n",
      "   100K .......... .......... .......... .......... .......... 1.30M\n",
      "   150K .......... .......... .......... .......... ..........  737K\n",
      "   200K .......... .......... .......... .......... .......... 2.31M\n",
      "   250K .......... .......... .......... .......... .......... 3.10M\n",
      "   300K .......... .......... .......... .......... .......... 2.98M\n",
      "   350K .......... .......... .......... .......... ..........  917K\n",
      "   400K .......... .......... .......... .......... .......... 3.93M\n",
      "   450K .......... .......... .......... .......... .......... 4.71M\n",
      "   500K .......... .......... .......... .......... .......... 4.21M\n",
      "   550K .......... .......... .......... .......... .......... 4.36M\n",
      "   600K .......... .......... .......... .......... .......... 9.15M\n",
      "   650K .......... .......... .......... .......... .......... 6.81M\n",
      "   700K .......... .......... .......... .......... .......... 1.10M\n",
      "   750K .......... .......... .......... .......... .......... 7.34M\n",
      "   800K .......... .......... .......... .......... .......... 7.84M\n",
      "   850K .......... .......... .......... .......... .......... 7.62M\n",
      "   900K .......... .......... .......... .......... .......... 9.33M\n",
      "   950K .......... .......... .......... .......... .......... 7.75M\n",
      "  1000K .......... .......... .......... .......... .......... 12.9M\n",
      "  1050K .......... .......... .......... .......... .......... 9.72M\n",
      "  1100K .......... .......... .......... .......... .......... 7.60M\n",
      "  1150K .......... .......... .......... .......... .......... 9.92M\n",
      "  1200K .......... .......... .......... .......... .......... 10.0M\n",
      "  1250K .......... .......... .......... .......... .......... 13.3M\n",
      "  1300K .......... .......... .......... .......... .......... 13.4M\n",
      "  1350K .......... .......... .......... .......... .......... 12.6M\n",
      "  1400K .......... .......... .......... .......... .......... 12.8M\n",
      "  1450K .......... .......... .......... .......... .......... 11.4M\n",
      "  1500K .......... .......... .......... .......... .......... 1.25M\n",
      "  1550K .......... .......... .......... .......... .......... 13.2M\n",
      "  1600K .......... .......... .......... .......... .......... 14.0M\n",
      "  1650K .......... .......... .......... .......... .......... 16.6M\n",
      "  1700K .......... .......... .......... .......... .......... 12.9M\n",
      "  1750K .......... .......... .......... .......... .......... 15.8M\n",
      "  1800K .......... .......... .......... .......... .......... 22.5M\n",
      "  1850K .......... .......... .......... .......... .......... 16.0M\n",
      "  1900K .......... .......... .......... .......... .......... 13.4M\n",
      "  1950K .......... .......... .......... .......... .......... 16.9M\n",
      "  2000K .......... .......... .......... .......... .......... 17.1M\n",
      "  2050K .......... .......... .......... .......... .......... 24.1M\n",
      "  2100K .......... .......... .......... .......... .......... 16.6M\n",
      "  2150K .......... .......... .......... .......... .......... 23.5M\n",
      "  2200K .......... .......... .......... .......... .......... 17.0M\n",
      "  2250K .......... .......... .......... .......... .......... 25.2M\n",
      "  2300K .......... .......... .......... .......... .......... 17.6M\n",
      "  2350K .......... .......... .......... .......... .......... 17.4M\n",
      "  2400K .......... .......... .......... .......... .......... 24.3M\n",
      "  2450K .......... .......... .......... .......... .......... 22.9M\n",
      "  2500K .......... .......... .......... .......... .......... 24.0M\n",
      "  2550K .......... .......... .......... .......... .......... 14.1M\n",
      "  2600K .......... .......... .......... .......... .......... 35.0M\n",
      "  2650K .......... .......... .......... .......... .......... 26.9M\n",
      "  2700K .......... .......... .......... .......... .......... 32.0M\n",
      "  2750K .......... .......... .......... .......... .......... 16.3M\n",
      "  2800K .......... .......... .......... .......... .......... 26.2M\n",
      "  2850K .......... .......... .......... .......... .......... 31.8M\n",
      "  2900K .......... .......... .......... .......... .......... 21.0M\n",
      "  2950K .......... .......... .......... .......... .......... 24.9M\n",
      "  3000K .......... .......... .......... .......... .......... 1.32M\n",
      "  3050K .......... .......... .......... .......... .......... 33.0M\n",
      "  3100K .......... .......... .......... .......... .......... 32.6M\n",
      "  3150K .......... .......... .......... .......... .......... 19.5M\n",
      "  3200K .......... .......... .......... .......... .......... 34.4M\n",
      "  3250K .......... .......... .......... .......... .......... 19.4M\n",
      "  3300K .......... .......... .......... .......... .......... 54.6M\n",
      "  3350K .......... .......... .......... .......... .......... 32.5M\n",
      "  3400K .......... .......... .......... .......... .......... 27.3M\n",
      "  3450K .......... .......... .......... .......... .......... 46.4M\n",
      "  3500K .......... .......... .......... .......... .......... 26.4M\n",
      "  3550K .......... .......... .......... .......... .......... 25.5M\n",
      "  3600K .......... .......... .......... .......... .......... 29.7M\n",
      "  3650K .......... .......... .......... .......... .......... 28.8M\n",
      "  3700K .......... .......... .......... .......... .......... 25.4M\n",
      "  3750K .......... .......... .......... .......... .......... 60.0M\n",
      "  3800K .......... .......... .......... .......... .......... 54.4M\n",
      "  3850K .......... .......... .......... .......... .......... 30.4M\n",
      "  3900K .......... .......... .......... .......... .......... 35.8M\n",
      "  3950K .......... .......... .......... .......... .......... 27.7M\n",
      "  4000K .......... .......... .......... .......... .......... 32.9M\n",
      "  4050K .......... .......... .......... .......... .......... 38.7M\n",
      "  4100K .......... .......... .......... .......... .......... 32.3M\n",
      "  4150K .......... .......... .......... .......... .......... 44.8M\n",
      "  4200K .......... .......... .......... .......... .......... 45.2M\n",
      "  4250K .......... .......... .......... .......... .......... 37.1M\n",
      "  4300K .......... .......... .......... .......... .......... 28.6M\n",
      "  4350K .......... .......... .......... .......... .......... 31.8M\n",
      "  4400K .......... .......... .......... .......... .......... 43.0M\n",
      "  4450K .......... .......... .......... .......... .......... 54.1M\n",
      "  4500K .......... .......... .......... .......... .......... 35.2M\n",
      "  4550K .......... .......... .......... .......... .......... 46.7M\n",
      "  4600K .......... .......... .......... .......... .......... 49.5M\n",
      "  4650K .......... .......... .......... .......... .......... 35.3M\n",
      "  4700K .......... .......... .......... .......... .......... 35.5M\n",
      "  4750K .......... .......... .......... .......... .......... 30.4M\n",
      "  4800K .......... .......... .......... .......... .......... 51.2M\n",
      "  4850K .......... .......... .......... .......... .......... 53.3M\n",
      "  4900K .......... .......... .......... .......... .......... 57.7M\n",
      "  4950K .......... .......... .......... .......... .......... 47.3M\n",
      "  5000K .......... .......... .......... .......... .......... 30.6M\n",
      "  5050K .......... .......... .......... .......... .......... 36.9M\n",
      "  5100K .......... .......... .......... .......... .......... 49.4M\n",
      "  5150K .......... ...                                          297M=0.9s\n",
      "\n",
      "2019-06-10 15:25:10 (5.81 MB/s) - ‘ingredients.tsv’ saved [5287404]\n",
      "\n"
     ]
    },
    {
     "data": {
      "text/plain": [
       "\u001b[32mimport \u001b[39m\u001b[36msys.process._\n",
       "\n",
       "\u001b[39m\n",
       "\u001b[36mres0_1\u001b[39m: \u001b[32mInt\u001b[39m = \u001b[32m0\u001b[39m"
      ]
     },
     "execution_count": 1,
     "metadata": {},
     "output_type": "execute_result"
    }
   ],
   "source": [
    "import sys.process._\n",
    "\n",
    "\"wget -O ingredients.tsv https://drive.google.com/uc?export=download&id=1oTjCLXJZjciOmpweGsirlreu9zcrm6Py\"!"
   ]
  },
  {
   "cell_type": "markdown",
   "metadata": {},
   "source": [
    "## Processando o dataset\n",
    "\n",
    "Para simplificar o desafio (pois já há muita coisa difícil para se fazer) o dataset foi mapeado para TSV. As informações estão separadas por **tabulações** (caractere \\t). Processe-o e armazene-o da maneira que achar mais conveniente"
   ]
  },
  {
   "cell_type": "code",
   "execution_count": 33,
   "metadata": {},
   "outputs": [
    {
     "data": {
      "text/plain": [
       "\u001b[36mdata\u001b[39m: \u001b[32mIterator\u001b[39m[\u001b[32mString\u001b[39m] = empty iterator\n",
       "\u001b[36mlines\u001b[39m: \u001b[32mArray\u001b[39m[\u001b[32mString\u001b[39m] = \u001b[33mArray\u001b[39m(\n",
       "  \u001b[32m\"\"\"\n",
       "id\tasins\tbrand\tcategories\tdateAdded\tdateUpdated\tean\tfeatures.key\tfeatures.value\tmanufacturer\tmanufacturerNumber\tname\tsizes\tupc\tweight\tUnnamed: 15\n",
       "  \"\"\"\u001b[39m,\n",
       "  \u001b[32m\"\"\"\n",
       "AVphBRHOilAPnD_x0OrE\tB00HXST15C\tSimon Fischer\tGrocery & Gourmet Food,Food,Grocery\t2017-01-07T20:13:17Z\t2017-06-30T16:48:02Z\t41642026706\tIngredients\tDried Prunes,Water,Corn Syrup,Sugar,Pectin.\tSokol And Company\t33829\tSimon Fischer Fruit Bttr Prune Lekvar\t\t41642026706\t10.6 pounds\t\n",
       "  \"\"\"\u001b[39m,\n",
       "  \u001b[32m\"\"\"\n",
       "\u001b[33m...\u001b[39m\n",
       "\u001b[36mdados\u001b[39m: \u001b[32mArray\u001b[39m[\u001b[32mArray\u001b[39m[\u001b[32mString\u001b[39m]] = \u001b[33mArray\u001b[39m(\n",
       "  \u001b[33mArray\u001b[39m(\n",
       "    null,\n",
       "    null,\n",
       "    null,\n",
       "    null,\n",
       "    null,\n",
       "    null,\n",
       "    null,\n",
       "    null,\n",
       "    null,\n",
       "    null,\n",
       "\u001b[33m...\u001b[39m\n",
       "\u001b[36mdado\u001b[39m: \u001b[32mArray\u001b[39m[\u001b[32mString\u001b[39m] = \u001b[33mArray\u001b[39m(\n",
       "  \u001b[32m\"AVpfmY4RLJeJML43ANr-\"\u001b[39m,\n",
       "  \u001b[32m\"B000PWIR7Q,B005ER1C6U\"\u001b[39m,\n",
       "  \u001b[32m\"Quaker\"\u001b[39m,\n",
       "  \u001b[32m\"Food,Snacks, Cookies & Chips,Rice Cakes,Chips,Grocery\"\u001b[39m,\n",
       "  \u001b[32m\"2015-08-24T21:44:06Z\"\u001b[39m,\n",
       "  \u001b[32m\"2017-09-18T23:01:44Z\"\u001b[39m,\n",
       "  \u001b[32m\"30000169766\"\u001b[39m,\n",
       "  \u001b[32m\"Ingredients\"\u001b[39m,\n",
       "  \u001b[32m\"Whole Grain Brown Rice Flour,Degerminated Milled Corn,Sunflower Oil,Dry Whey,Salt,Maltodextrin,Cheddar Cheese (Cultured Milk,Enzymes,Annatto [Color]),Butter Oil,Monosodium Glutamate,Lactic Acid,Tricalcium Phosphate,Disodium Phosphate,Cal\u001b[33m...\u001b[39m"
      ]
     },
     "execution_count": 33,
     "metadata": {},
     "output_type": "execute_result"
    }
   ],
   "source": [
    "var data = scala.io.Source.fromFile(\"ingredients.tsv\").getLines\n",
    "var lines = data.toArray\n",
    "\n",
    "var dados = Array.ofDim[String](10000,15)\n",
    "var dado = new Array[String](15)\n",
    "\n",
    "for(i <- 0 until 10000){\n",
    "    dado = lines(i).split(\"\\t\").toArray\n",
    "    if (dado.length == 15){\n",
    "        for(j <- 0 until 15){\n",
    "            dados(i)(j) = dado(j)\n",
    "        }\n",
    "    }\n",
    "}"
   ]
  },
  {
   "cell_type": "markdown",
   "metadata": {},
   "source": [
    "## Demandas\n",
    "---"
   ]
  },
  {
   "cell_type": "markdown",
   "metadata": {},
   "source": [
    "### 1 - Quantas e quais as marcas de produtos contidas no dataset?"
   ]
  },
  {
   "cell_type": "code",
   "execution_count": 38,
   "metadata": {},
   "outputs": [
    {
     "name": "stdout",
     "output_type": "stream",
     "text": [
      "2424"
     ]
    },
    {
     "data": {
      "text/plain": [
       "\u001b[36mmarcas\u001b[39m: \u001b[32mArray\u001b[39m[\u001b[32mString\u001b[39m] = \u001b[33mArray\u001b[39m(\n",
       "  \u001b[32m\"Simon Fischer\"\u001b[39m,\n",
       "  \u001b[32m\"McCormick\"\u001b[39m,\n",
       "  \u001b[32m\"Jolly Time\"\u001b[39m,\n",
       "  \u001b[32m\"Ziyad\"\u001b[39m,\n",
       "  \u001b[32m\"Fla-Vor-Ice\"\u001b[39m,\n",
       "  \u001b[32m\"Hero\"\u001b[39m,\n",
       "  \u001b[32m\"Simply Asia\"\u001b[39m,\n",
       "  \u001b[32m\"Back to Nature\"\u001b[39m,\n",
       "  \u001b[32m\"Nature's Path\"\u001b[39m,\n",
       "  \u001b[32m\"Simply Organic\"\u001b[39m,\n",
       "  \u001b[32m\"Kellogg's\"\u001b[39m,\n",
       "\u001b[33m...\u001b[39m"
      ]
     },
     "execution_count": 38,
     "metadata": {},
     "output_type": "execute_result"
    }
   ],
   "source": [
    "var marcas = new Array[String](10000)\n",
    "for(i<-0 until 10000){\n",
    "    marcas(i) = dados(i)(2)\n",
    "}\n",
    "marcas = marcas.distinct\n",
    "marcas = marcas.filter(_!=null)\n",
    "\n",
    "print(marcas.toList)\n",
    "print(marcas.toList.length)"
   ]
  },
  {
   "cell_type": "markdown",
   "metadata": {},
   "source": [
    "### 2 - Quais as marcas que aparecem mais no dataset? Quais aparecem menos?"
   ]
  },
  {
   "cell_type": "code",
   "execution_count": null,
   "metadata": {},
   "outputs": [],
   "source": []
  },
  {
   "cell_type": "markdown",
   "metadata": {},
   "source": [
    "### 3 - Compute a média e desvio padrão da frequência das marcas de produtos"
   ]
  },
  {
   "cell_type": "code",
   "execution_count": null,
   "metadata": {},
   "outputs": [],
   "source": []
  },
  {
   "cell_type": "markdown",
   "metadata": {},
   "source": [
    "### 4 - Quais os ingredientes que aparecem nos produtos? Mostre quantos são, os que mais aparecem e os que menos aparecem."
   ]
  },
  {
   "cell_type": "code",
   "execution_count": null,
   "metadata": {},
   "outputs": [],
   "source": []
  },
  {
   "cell_type": "markdown",
   "metadata": {},
   "source": [
    "### 5 - Compute a média e desvio padrão da frequência dos ingredientes"
   ]
  },
  {
   "cell_type": "code",
   "execution_count": null,
   "metadata": {},
   "outputs": [],
   "source": []
  },
  {
   "cell_type": "markdown",
   "metadata": {},
   "source": [
    "### 6 - Quais os ingredientes mais usados por cada marca? E os menos usados?"
   ]
  },
  {
   "cell_type": "code",
   "execution_count": null,
   "metadata": {},
   "outputs": [],
   "source": []
  },
  {
   "cell_type": "markdown",
   "metadata": {},
   "source": [
    "### 7 - Compute alguma informação não demandada pelas questões anteriores e justifique o porquê que tal informação é útil"
   ]
  },
  {
   "cell_type": "code",
   "execution_count": null,
   "metadata": {},
   "outputs": [],
   "source": []
  }
 ],
 "metadata": {
  "kernelspec": {
   "display_name": "Scala",
   "language": "scala",
   "name": "scala"
  },
  "language_info": {
   "codemirror_mode": "text/x-scala",
   "file_extension": ".scala",
   "mimetype": "text/x-scala",
   "name": "scala211",
   "nbconvert_exporter": "script",
   "pygments_lexer": "scala",
   "version": "2.11.11"
  }
 },
 "nbformat": 4,
 "nbformat_minor": 2
}
